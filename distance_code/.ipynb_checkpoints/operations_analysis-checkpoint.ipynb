{
 "cells": [
  {
   "cell_type": "code",
   "execution_count": 24,
   "id": "381839a8-df37-403f-a810-35d30267df0e",
   "metadata": {},
   "outputs": [],
   "source": [
    "import pandas as pd \n",
    "import numpy as np\n",
    "from matplotlib import pyplot as plt\n",
    "import yfinance as yf"
   ]
  },
  {
   "cell_type": "code",
   "execution_count": 35,
   "id": "7890e343-208a-422c-bef6-82fdf4fcfd98",
   "metadata": {},
   "outputs": [
    {
     "name": "stdout",
     "output_type": "stream",
     "text": [
      "[*********************100%***********************]  1 of 1 completed\n",
      "(6168, 2)\n"
     ]
    },
    {
     "data": {
      "text/html": [
       "<div>\n",
       "<style scoped>\n",
       "    .dataframe tbody tr th:only-of-type {\n",
       "        vertical-align: middle;\n",
       "    }\n",
       "\n",
       "    .dataframe tbody tr th {\n",
       "        vertical-align: top;\n",
       "    }\n",
       "\n",
       "    .dataframe thead th {\n",
       "        text-align: right;\n",
       "    }\n",
       "</style>\n",
       "<table border=\"1\" class=\"dataframe\">\n",
       "  <thead>\n",
       "    <tr style=\"text-align: right;\">\n",
       "      <th></th>\n",
       "      <th>annualized</th>\n",
       "      <th>daily</th>\n",
       "    </tr>\n",
       "    <tr>\n",
       "      <th>Date</th>\n",
       "      <th></th>\n",
       "      <th></th>\n",
       "    </tr>\n",
       "  </thead>\n",
       "  <tbody>\n",
       "    <tr>\n",
       "      <th>1991-06-03</th>\n",
       "      <td>5.60</td>\n",
       "      <td>0.000052</td>\n",
       "    </tr>\n",
       "    <tr>\n",
       "      <th>1991-06-04</th>\n",
       "      <td>5.57</td>\n",
       "      <td>0.000052</td>\n",
       "    </tr>\n",
       "    <tr>\n",
       "      <th>1991-06-05</th>\n",
       "      <td>5.59</td>\n",
       "      <td>0.000052</td>\n",
       "    </tr>\n",
       "    <tr>\n",
       "      <th>1991-06-06</th>\n",
       "      <td>5.56</td>\n",
       "      <td>0.000052</td>\n",
       "    </tr>\n",
       "    <tr>\n",
       "      <th>1991-06-07</th>\n",
       "      <td>5.56</td>\n",
       "      <td>0.000052</td>\n",
       "    </tr>\n",
       "  </tbody>\n",
       "</table>\n",
       "</div>"
      ],
      "text/plain": [
       "            annualized     daily\n",
       "Date                            \n",
       "1991-06-03        5.60  0.000052\n",
       "1991-06-04        5.57  0.000052\n",
       "1991-06-05        5.59  0.000052\n",
       "1991-06-06        5.56  0.000052\n",
       "1991-06-07        5.56  0.000052"
      ]
     },
     "execution_count": 35,
     "metadata": {},
     "output_type": "execute_result"
    }
   ],
   "source": [
    "# Coleta da taxa de retorno risk free\n",
    "\n",
    "def deannualize(annual_rate, periods=365):\n",
    "    return (1 + annual_rate) ** (1/periods) - 1\n",
    "\n",
    "annualized = yf.download(\"^IRX\", start=\"1991-06-01\", end=\"2015-12-31\")[\"Adj Close\"]\n",
    "daily = annualized.apply(deannualize)\n",
    "\n",
    "# create dataframe\n",
    "risk_free_rates = pd.DataFrame({\"annualized\": annualized, \"daily\": daily})\n",
    "risk_free_rates['daily'] = risk_free_rates['daily'] / 100\n",
    "print(np.shape(risk_free_rates))\n",
    "risk_free_rates.head()"
   ]
  },
  {
   "cell_type": "code",
   "execution_count": 63,
   "id": "29a705a7-6f3f-42a5-b27a-cd6b4737bd0c",
   "metadata": {},
   "outputs": [
    {
     "name": "stdout",
     "output_type": "stream",
     "text": [
      "      Semester  Days   S1   S2     Pair    Return  Converged\n",
      "2740        48     8  XEL  WEC  XEL-WEC  0.022778       True\n",
      "2741        48     7  XEL  WEC  XEL-WEC  0.024433       True\n",
      "2742        48    10  PNW  WEC  PNW-WEC  0.020942       True\n",
      "2743        48     5  PNW  WEC  PNW-WEC  0.018191       True\n",
      "2744        48   126  SPG  PSA  SPG-PSA -0.204372      False\n"
     ]
    }
   ],
   "source": [
    "operations = pd.read_csv(\"../distance_results/operations_test.csv\", index_col=0)\n",
    "operations['Return'] = operations['Return'] - 1\n",
    "print(operations.tail())"
   ]
  },
  {
   "cell_type": "code",
   "execution_count": 64,
   "id": "035dc675-028c-44e4-b7ea-74a1db304688",
   "metadata": {},
   "outputs": [
    {
     "name": "stdout",
     "output_type": "stream",
     "text": [
      "Número de operações: 2745\n",
      "Converged operations: 2075 | Open operations: 670\n",
      "Positive Returns: 2188\n",
      "Negative Returns: 557\n",
      "Highest Return: 0.2444590025207083\n",
      "Lowest Return: -0.6340779177374505\n",
      "Average Return: 0.0037692652148289692\n",
      "Average trade lenght: 28.204007285974498\n"
     ]
    }
   ],
   "source": [
    "print(f\"Número de operações: {np.shape(operations)[0]}\")\n",
    "print(f\"Converged operations: {sum(operations['Converged'])} | Open operations: {np.shape(operations)[0] - sum(operations['Converged'])}\")\n",
    "print(f\"Positive Returns: {sum(operations['Return'] > 0)}\")\n",
    "print(f\"Negative Returns: {sum(operations['Return'] < 0)}\")\n",
    "print(f\"Highest Return: {operations['Return'].max()}\")\n",
    "print(f\"Lowest Return: {operations['Return'].min()}\")\n",
    "print(f\"Average Return: {operations['Return'].mean()}\")\n",
    "print(f\"Average trade lenght: {operations['Days'].mean()}\")"
   ]
  },
  {
   "cell_type": "code",
   "execution_count": 65,
   "id": "20452988-7ca4-4a40-8403-7c9a1d552b3d",
   "metadata": {},
   "outputs": [
    {
     "data": {
      "image/png": "[encoded data removed]",
      "text/plain": [
       "<Figure size 1080x504 with 1 Axes>"
      ]
     },
     "metadata": {
      "needs_background": "light"
     },
     "output_type": "display_data"
    }
   ],
   "source": [
    "# Return Distribution\n",
    "fig = plt.figure(figsize=(15, 7))\n",
    "ax1 = fig.add_subplot(1, 1, 1)\n",
    "operations['Return'].hist(bins=50, ax=ax1)\n",
    "ax1.set_xlabel('Retorno')\n",
    "ax1.set_ylabel('Amostra')\n",
    "ax1.set_title('Distribuição dos Retornos')\n",
    "plt.show()"
   ]
  },
  {
   "cell_type": "code",
   "execution_count": 66,
   "id": "43f7380f-c105-40e6-97cd-1277d91fe887",
   "metadata": {},
   "outputs": [
    {
     "name": "stdout",
     "output_type": "stream",
     "text": [
      "Número de pares: 640\n",
      "Retorno médio por par: 1.6167%\n"
     ]
    }
   ],
   "source": [
    "# Retorno por par\n",
    "operations_by_pair = operations.groupby(\"Pair\").sum(\"Return\")\n",
    "print(f\"Número de pares: {np.shape(operations_by_pair)[0]}\")\n",
    "print(f\"Retorno médio por par: {round(100*operations_by_pair['Return'].mean(),4)}%\")"
   ]
  },
  {
   "cell_type": "code",
   "execution_count": 8,
   "id": "38faea2c-b62c-4c26-be6a-0fbbce1b569e",
   "metadata": {},
   "outputs": [],
   "source": [
    "# Ações com maior participação\n",
    "stock_count = {}\n",
    "\n",
    "for pair in operations_by_pair.index:\n",
    "    stocks = pair.split(\"-\")\n",
    "    for stock in stocks:   \n",
    "        if stock in stock_count:\n",
    "            stock_count[stock] += 1\n",
    "        else:\n",
    "            stock_count[stock] = 1\n",
    "stock_count_df = pd.DataFrame(stock_count.items()) \n",
    "stock_count_df = stock_count_df.sort_values(1)\n",
    "stock_count_df.to_csv(\"../distance_results/stock_count_20_pairs_test.csv\")"
   ]
  },
  {
   "cell_type": "code",
   "execution_count": 43,
   "id": "7d5236e1-3f46-4e77-a1e0-399af5d821e9",
   "metadata": {},
   "outputs": [
    {
     "name": "stdout",
     "output_type": "stream",
     "text": [
      "        Return  Semester\n",
      "0     0.000000       0.0\n",
      "1    -0.000011       0.0\n",
      "2     0.001460       0.0\n",
      "3     0.000134       0.0\n",
      "4     0.001018       0.0\n",
      "...        ...       ...\n",
      "6168  0.000000       0.0\n",
      "6169  0.000000       0.0\n",
      "6170  0.000000       0.0\n",
      "6171  0.000000       0.0\n",
      "6172  0.000000       0.0\n",
      "\n",
      "[6173 rows x 2 columns]\n"
     ]
    },
    {
     "data": {
      "text/html": [
       "<div>\n",
       "<style scoped>\n",
       "    .dataframe tbody tr th:only-of-type {\n",
       "        vertical-align: middle;\n",
       "    }\n",
       "\n",
       "    .dataframe tbody tr th {\n",
       "        vertical-align: top;\n",
       "    }\n",
       "\n",
       "    .dataframe thead th {\n",
       "        text-align: right;\n",
       "    }\n",
       "</style>\n",
       "<table border=\"1\" class=\"dataframe\">\n",
       "  <thead>\n",
       "    <tr style=\"text-align: right;\">\n",
       "      <th></th>\n",
       "      <th>Return</th>\n",
       "      <th>Semester</th>\n",
       "    </tr>\n",
       "  </thead>\n",
       "  <tbody>\n",
       "    <tr>\n",
       "      <th>0</th>\n",
       "      <td>0.000291</td>\n",
       "      <td>0.0</td>\n",
       "    </tr>\n",
       "    <tr>\n",
       "      <th>1</th>\n",
       "      <td>0.000291</td>\n",
       "      <td>0.0</td>\n",
       "    </tr>\n",
       "    <tr>\n",
       "      <th>2</th>\n",
       "      <td>0.000291</td>\n",
       "      <td>0.0</td>\n",
       "    </tr>\n",
       "    <tr>\n",
       "      <th>3</th>\n",
       "      <td>0.000291</td>\n",
       "      <td>0.0</td>\n",
       "    </tr>\n",
       "    <tr>\n",
       "      <th>4</th>\n",
       "      <td>0.000291</td>\n",
       "      <td>0.0</td>\n",
       "    </tr>\n",
       "  </tbody>\n",
       "</table>\n",
       "</div>"
      ],
      "text/plain": [
       "     Return  Semester\n",
       "0  0.000291       0.0\n",
       "1  0.000291       0.0\n",
       "2  0.000291       0.0\n",
       "3  0.000291       0.0\n",
       "4  0.000291       0.0"
      ]
     },
     "execution_count": 43,
     "metadata": {},
     "output_type": "execute_result"
    }
   ],
   "source": [
    "# Leitura dos retornos diários dos portfólios e Retornos Risk-Free\n",
    "daily_returns_cc = pd.read_csv(\"../distance_results/Rp_ew_cc_test.csv\", header=0)\n",
    "#daily_returns_cc.columns = ['Return', 'Semester']\n",
    "print(daily_returns_cc)\n",
    "\n",
    "risk_free_returns = pd.read_csv(\"../distance_results/risk_free.csv\", header=0, index_col=0)\n",
    "risk_free_returns.head()"
   ]
  },
  {
   "cell_type": "code",
   "execution_count": 44,
   "id": "400f74de-8c6c-4d7e-93fe-cd469dc292b1",
   "metadata": {},
   "outputs": [
    {
     "name": "stdout",
     "output_type": "stream",
     "text": [
      "        Return  Semester\n",
      "0     0.000000       0.0\n",
      "1    -0.000053       0.0\n",
      "2     0.005840       0.0\n",
      "3     0.000445       0.0\n",
      "4     0.004070       0.0\n",
      "...        ...       ...\n",
      "6168  0.000000       0.0\n",
      "6169  0.000000       0.0\n",
      "6170  0.000000       0.0\n",
      "6171  0.000000       0.0\n",
      "6172  0.000000       0.0\n",
      "\n",
      "[6173 rows x 2 columns]\n",
      "Mean daily return: 0.00015954108743655368\n",
      "Mean risk free return: 2.9473073283260452e-05\n",
      "Fully Invested Sharpe Ratio: 0.02772646226856696\n"
     ]
    }
   ],
   "source": [
    "# Leitura dos retornos diários dos portfólios e Retornos Risk-Free\n",
    "daily_returns_fi = pd.read_csv(\"../distance_results/Rp_vw_fi_test.csv\", header=0)\n",
    "#daily_returns_cc.columns = ['Return', 'Semester']\n",
    "print(daily_returns_fi)\n",
    "\n",
    "# Cálculo do Sharpe para o período do estudo\n",
    "mean_daily_return_fi = daily_returns_fi['Return'].mean()\n",
    "print(f\"Mean daily return: {mean_daily_return_fi}\")\n",
    "returns_std_dev_fi = daily_returns_fi['Return'].std()\n",
    "\n",
    "risk_free_mean = risk_free_rates['daily'].mean()\n",
    "print(f\"Mean risk free return: {risk_free_mean}\")\n",
    "\n",
    "print(f\"Fully Invested Sharpe Ratio: {(mean_daily_return_fi - risk_free_mean) / returns_std_dev_fi}\")"
   ]
  },
  {
   "cell_type": "code",
   "execution_count": 45,
   "id": "cacdd5fb-b2d1-42d2-a09e-9ad63c7561bb",
   "metadata": {},
   "outputs": [
    {
     "name": "stdout",
     "output_type": "stream",
     "text": [
      "Mean daily return: 9.040820922114165e-05\n",
      "Mean risk free return: 2.9473073283260452e-05\n",
      "Committed Capital Sharpe Ratio: 0.02169676253706194\n"
     ]
    }
   ],
   "source": [
    "# Cálculo do Sharpe para o período do estudo\n",
    "mean_daily_return = daily_returns_cc['Return'].mean()\n",
    "print(f\"Mean daily return: {mean_daily_return}\")\n",
    "returns_std_dev = daily_returns_cc['Return'].std()\n",
    "\n",
    "risk_free_mean = risk_free_rates['daily'].mean()\n",
    "print(f\"Mean risk free return: {risk_free_mean}\")\n",
    "\n",
    "print(f\"Committed Capital Sharpe Ratio: {(mean_daily_return - risk_free_mean) / returns_std_dev}\")"
   ]
  },
  {
   "cell_type": "code",
   "execution_count": 46,
   "id": "7f90b44d-41b0-44e0-8223-742baf2b8fe2",
   "metadata": {},
   "outputs": [
    {
     "data": {
      "text/html": [
       "<div>\n",
       "<style scoped>\n",
       "    .dataframe tbody tr th:only-of-type {\n",
       "        vertical-align: middle;\n",
       "    }\n",
       "\n",
       "    .dataframe tbody tr th {\n",
       "        vertical-align: top;\n",
       "    }\n",
       "\n",
       "    .dataframe thead th {\n",
       "        text-align: right;\n",
       "    }\n",
       "</style>\n",
       "<table border=\"1\" class=\"dataframe\">\n",
       "  <thead>\n",
       "    <tr style=\"text-align: right;\">\n",
       "      <th></th>\n",
       "      <th>CC</th>\n",
       "      <th>FI</th>\n",
       "      <th>RMRF</th>\n",
       "      <th>SEMESTER</th>\n",
       "    </tr>\n",
       "  </thead>\n",
       "  <tbody>\n",
       "    <tr>\n",
       "      <th>0</th>\n",
       "      <td>1.000000</td>\n",
       "      <td>1.000000</td>\n",
       "      <td>1.001433</td>\n",
       "      <td>0.0</td>\n",
       "    </tr>\n",
       "    <tr>\n",
       "      <th>1</th>\n",
       "      <td>0.999989</td>\n",
       "      <td>0.999947</td>\n",
       "      <td>0.988685</td>\n",
       "      <td>0.0</td>\n",
       "    </tr>\n",
       "    <tr>\n",
       "      <th>2</th>\n",
       "      <td>1.001449</td>\n",
       "      <td>1.005787</td>\n",
       "      <td>0.996014</td>\n",
       "      <td>0.0</td>\n",
       "    </tr>\n",
       "    <tr>\n",
       "      <th>3</th>\n",
       "      <td>1.001583</td>\n",
       "      <td>1.006235</td>\n",
       "      <td>0.998781</td>\n",
       "      <td>0.0</td>\n",
       "    </tr>\n",
       "    <tr>\n",
       "      <th>4</th>\n",
       "      <td>1.002602</td>\n",
       "      <td>1.010330</td>\n",
       "      <td>0.990073</td>\n",
       "      <td>0.0</td>\n",
       "    </tr>\n",
       "  </tbody>\n",
       "</table>\n",
       "</div>"
      ],
      "text/plain": [
       "         CC        FI      RMRF  SEMESTER\n",
       "0  1.000000  1.000000  1.001433       0.0\n",
       "1  0.999989  0.999947  0.988685       0.0\n",
       "2  1.001449  1.005787  0.996014       0.0\n",
       "3  1.001583  1.006235  0.998781       0.0\n",
       "4  1.002602  1.010330  0.990073       0.0"
      ]
     },
     "execution_count": 46,
     "metadata": {},
     "output_type": "execute_result"
    }
   ],
   "source": [
    "semester_returns = pd.read_csv(\"../distance_results/ret_acum_df_test.csv\", header=0, index_col=0)\n",
    "semester_returns.head()"
   ]
  },
  {
   "cell_type": "code",
   "execution_count": 47,
   "id": "25ae3ebd-10a8-4aef-8f76-3cab85e344d6",
   "metadata": {},
   "outputs": [
    {
     "name": "stdout",
     "output_type": "stream",
     "text": [
      "Retorno semestral médio: CC 1.1712953803005202 | FI 2.1175531595078123\n",
      "Maior retorno: CC 8.981744524266544 | FI 26.302834657718076\n",
      "Menor retorno: CC -14.306103886231059 | FI -17.267744294694054\n",
      "Semestres positivos: CC 34 | FI 31\n",
      "Semestres negativos: CC 15\n",
      "Retorno acumulado:                 CC        FI      RMRF\n",
      "SEMESTER                              \n",
      "0.0       1.036238  1.062705  0.876513\n",
      "1.0       1.084458  1.140984  0.774019\n",
      "2.0       1.139625  1.243413  0.678437\n",
      "3.0       1.177103  1.319318  0.603301\n",
      "4.0       1.138492  1.266341  0.528801\n",
      "5.0       1.154233  1.287926  0.466476\n",
      "6.0       1.199204  1.372966  0.413703\n",
      "7.0       1.306913  1.734095  0.365327\n",
      "8.0       1.360360  1.853655  0.322608\n",
      "9.0       1.408186  1.952950  0.284884\n",
      "10.0      1.417457  1.959315  0.249705\n",
      "11.0      1.427588  2.015877  0.220274\n",
      "12.0      1.548067  2.287158  0.193073\n",
      "13.0      1.554865  2.314324  0.171691\n",
      "14.0      1.491596  2.156692  0.150489\n",
      "15.0      1.572599  2.307753  0.133822\n",
      "16.0      1.493758  2.063523  0.117297\n",
      "17.0      1.582616  2.248768  0.103581\n",
      "18.0      1.356205  1.860457  0.091469\n",
      "19.0      1.436554  1.987657  0.080688\n",
      "20.0      1.462649  2.020313  0.071565\n",
      "21.0      1.474931  2.014606  0.063639\n",
      "22.0      1.507125  2.078370  0.055780\n",
      "23.0      1.546634  2.155135  0.049603\n",
      "24.0      1.575687  2.218050  0.043477\n",
      "25.0      1.601241  2.273043  0.038662\n",
      "26.0      1.604057  2.249026  0.033888\n",
      "27.0      1.516604  2.016856  0.029894\n",
      "28.0      1.523081  2.008019  0.026512\n",
      "29.0      1.462060  1.870065  0.023387\n",
      "30.0      1.495604  1.935349  0.020652\n",
      "31.0      1.486567  1.868779  0.018365\n",
      "32.0      1.417590  1.729160  0.016288\n",
      "33.0      1.455558  1.906452  0.014368\n",
      "34.0      1.489625  1.947814  0.012594\n",
      "35.0      1.556655  2.112460  0.011199\n",
      "36.0      1.625219  2.353751  0.009816\n",
      "37.0      1.672373  2.484613  0.008729\n",
      "38.0      1.704448  2.542144  0.007651\n",
      "39.0      1.738070  2.619511  0.006749\n",
      "40.0      1.747116  2.623658  0.005986\n",
      "41.0      1.728671  2.590362  0.005280\n",
      "42.0      1.714119  2.541707  0.004658\n",
      "43.0      1.710588  2.524821  0.004142\n",
      "44.0      1.708574  2.513901  0.003631\n",
      "45.0      1.708013  2.512091  0.003228\n",
      "46.0      1.730293  2.570478  0.002830\n",
      "47.0      1.718021  2.534574  0.002516\n",
      "48.0      1.705246  2.501260  0.002206\n"
     ]
    }
   ],
   "source": [
    "semester_returns = semester_returns[semester_returns['RMRF'] != 0]\n",
    "semester_cumulative_returns = semester_returns.groupby(\"SEMESTER\").last() - 1\n",
    "print(f\"Retorno semestral médio: CC {semester_cumulative_returns['CC'].mean()*100} | FI {semester_cumulative_returns['FI'].mean()*100}\")\n",
    "print(f\"Maior retorno: CC {semester_cumulative_returns['CC'].max()*100} | FI {semester_cumulative_returns['FI'].max()*100}\")\n",
    "print(f\"Menor retorno: CC {semester_cumulative_returns['CC'].min()*100} | FI {semester_cumulative_returns['FI'].min()*100}\")\n",
    "print(f\"Semestres positivos: CC {sum(semester_cumulative_returns['CC'] > 0)} | FI {sum(semester_cumulative_returns['FI'] > 0)}\")\n",
    "print(f\"Semestres negativos: CC {sum(semester_cumulative_returns['CC'] < 0)}\")\n",
    "print(f\"Retorno acumulado: {np.cumprod(1+semester_cumulative_returns)}\")"
   ]
  },
  {
   "cell_type": "code",
   "execution_count": 7,
   "id": "79beba96-8d2f-476a-a19d-19a452e6b029",
   "metadata": {},
   "outputs": [
    {
     "data": {
      "text/plain": [
       "<AxesSubplot:>"
      ]
     },
     "execution_count": 7,
     "metadata": {},
     "output_type": "execute_result"
    },
    {
     "data": {
      "image/png": "[encoded data removed]",
      "text/plain": [
       "<Figure size 432x288 with 1 Axes>"
      ]
     },
     "metadata": {
      "needs_background": "light"
     },
     "output_type": "display_data"
    }
   ],
   "source": [
    "rmrf = pd.read_csv(\"../RmRf.csv\", header=None)\n",
    "rmrf_cumulative = np.cumprod(1+rmrf)\n",
    "rmrf_cumulative.plot()"
   ]
  },
  {
   "cell_type": "code",
   "execution_count": 25,
   "id": "055f97da-de1c-4d3d-96b9-f8aa110c28dd",
   "metadata": {},
   "outputs": [
    {
     "data": {
      "text/plain": [
       "<AxesSubplot:>"
      ]
     },
     "execution_count": 25,
     "metadata": {},
     "output_type": "execute_result"
    },
    {
     "data": {
      "image/png": "[encoded data removed]",
      "text/plain": [
       "<Figure size 432x288 with 1 Axes>"
      ]
     },
     "metadata": {
      "needs_background": "light"
     },
     "output_type": "display_data"
    }
   ],
   "source": [
    "rp_ew_cc = pd.read_csv(\"../distance_results/Rp_ew_cc_test.csv\")\n",
    "rp_ew_cc_cumulative = np.cumprod(1+rp_ew_cc['Return'])\n",
    "rp_ew_cc_cumulative.plot()"
   ]
  },
  {
   "cell_type": "code",
   "execution_count": 27,
   "id": "0641d9d4-2160-4157-ba74-e7a6d7a7374d",
   "metadata": {},
   "outputs": [
    {
     "data": {
      "text/plain": [
       "<AxesSubplot:>"
      ]
     },
     "execution_count": 27,
     "metadata": {},
     "output_type": "execute_result"
    },
    {
     "data": {
      "image/png": "[encoded data removed]",
      "text/plain": [
       "<Figure size 432x288 with 1 Axes>"
      ]
     },
     "metadata": {
      "needs_background": "light"
     },
     "output_type": "display_data"
    }
   ],
   "source": [
    "rp_vw_fi = pd.read_csv(\"../distance_results/Rp_vw_fi_test.csv\")\n",
    "rp_vw_fi_cumulative = np.cumprod(1+rp_vw_fi['Return'])\n",
    "rp_vw_fi_cumulative.plot()"
   ]
  },
  {
   "cell_type": "code",
   "execution_count": 81,
   "id": "126abcec-31f5-4cbd-9264-8db55895f95a",
   "metadata": {},
   "outputs": [
    {
     "data": {
      "text/html": [
       "<div>\n",
       "<style scoped>\n",
       "    .dataframe tbody tr th:only-of-type {\n",
       "        vertical-align: middle;\n",
       "    }\n",
       "\n",
       "    .dataframe tbody tr th {\n",
       "        vertical-align: top;\n",
       "    }\n",
       "\n",
       "    .dataframe thead th {\n",
       "        text-align: right;\n",
       "    }\n",
       "</style>\n",
       "<table border=\"1\" class=\"dataframe\">\n",
       "  <thead>\n",
       "    <tr style=\"text-align: right;\">\n",
       "      <th></th>\n",
       "      <th>Semester</th>\n",
       "      <th>Days</th>\n",
       "      <th>S1</th>\n",
       "      <th>S2</th>\n",
       "      <th>Pair</th>\n",
       "      <th>Return</th>\n",
       "      <th>Converged</th>\n",
       "    </tr>\n",
       "  </thead>\n",
       "  <tbody>\n",
       "    <tr>\n",
       "      <th>0</th>\n",
       "      <td>0</td>\n",
       "      <td>33</td>\n",
       "      <td>JCI</td>\n",
       "      <td>1436513D</td>\n",
       "      <td>JCI-1436513D</td>\n",
       "      <td>0.000034</td>\n",
       "      <td>True</td>\n",
       "    </tr>\n",
       "    <tr>\n",
       "      <th>1</th>\n",
       "      <td>0</td>\n",
       "      <td>13</td>\n",
       "      <td>JCI</td>\n",
       "      <td>1436513D</td>\n",
       "      <td>JCI-1436513D</td>\n",
       "      <td>0.000067</td>\n",
       "      <td>True</td>\n",
       "    </tr>\n",
       "    <tr>\n",
       "      <th>2</th>\n",
       "      <td>0</td>\n",
       "      <td>28</td>\n",
       "      <td>JCI</td>\n",
       "      <td>1436513D</td>\n",
       "      <td>JCI-1436513D</td>\n",
       "      <td>0.000088</td>\n",
       "      <td>True</td>\n",
       "    </tr>\n",
       "    <tr>\n",
       "      <th>3</th>\n",
       "      <td>0</td>\n",
       "      <td>9</td>\n",
       "      <td>JCI</td>\n",
       "      <td>1436513D</td>\n",
       "      <td>JCI-1436513D</td>\n",
       "      <td>0.000049</td>\n",
       "      <td>True</td>\n",
       "    </tr>\n",
       "    <tr>\n",
       "      <th>4</th>\n",
       "      <td>0</td>\n",
       "      <td>17</td>\n",
       "      <td>JCI</td>\n",
       "      <td>1436513D</td>\n",
       "      <td>JCI-1436513D</td>\n",
       "      <td>0.000052</td>\n",
       "      <td>True</td>\n",
       "    </tr>\n",
       "  </tbody>\n",
       "</table>\n",
       "</div>"
      ],
      "text/plain": [
       "   Semester  Days   S1        S2          Pair    Return  Converged\n",
       "0         0    33  JCI  1436513D  JCI-1436513D  0.000034       True\n",
       "1         0    13  JCI  1436513D  JCI-1436513D  0.000067       True\n",
       "2         0    28  JCI  1436513D  JCI-1436513D  0.000088       True\n",
       "3         0     9  JCI  1436513D  JCI-1436513D  0.000049       True\n",
       "4         0    17  JCI  1436513D  JCI-1436513D  0.000052       True"
      ]
     },
     "execution_count": 81,
     "metadata": {},
     "output_type": "execute_result"
    }
   ],
   "source": [
    "operations_stop_5 = pd.read_csv(\"../distance_results/stop_5/operations.csv\", index_col=0)\n",
    "operations_stop_5['Return'] = operations_stop_5['Return'] - 1\n",
    "operations_stop_5.head()"
   ]
  },
  {
   "cell_type": "code",
   "execution_count": 82,
   "id": "370caffe-154d-4884-a2f7-3ec9c9355287",
   "metadata": {},
   "outputs": [
    {
     "name": "stdout",
     "output_type": "stream",
     "text": [
      "Número de operações: 3886\n",
      "Converged operations: 2075 | Open operations: 1811\n",
      "Positive Returns: 2462\n",
      "Negative Returns: 1424\n",
      "Highest Return: 0.6967173269479958\n",
      "Lowest Return: -0.050000000000000044\n",
      "Average Return: 0.0071727288914611035\n",
      "Average trade lenght: 19.922799794132786\n"
     ]
    }
   ],
   "source": [
    "print(f\"Número de operações: {np.shape(operations_stop_5)[0]}\")\n",
    "print(f\"Converged operations: {sum(operations_stop_5['Converged'])} | Open operations: {np.shape(operations_stop_5)[0] - sum(operations_stop_5['Converged'])}\")\n",
    "print(f\"Positive Returns: {sum(operations_stop_5['Return'] > 0)}\")\n",
    "print(f\"Negative Returns: {sum(operations_stop_5['Return'] < 0)}\")\n",
    "print(f\"Highest Return: {operations_stop_5['Return'].max()}\")\n",
    "print(f\"Lowest Return: {operations_stop_5['Return'].min()}\")\n",
    "print(f\"Average Return: {operations_stop_5['Return'].mean()}\")\n",
    "print(f\"Average trade lenght: {operations_stop_5['Days'].mean()}\")"
   ]
  },
  {
   "cell_type": "code",
   "execution_count": 15,
   "id": "26e94e9e-528f-4c96-877f-5bd88f7b90e2",
   "metadata": {},
   "outputs": [
    {
     "name": "stdout",
     "output_type": "stream",
     "text": [
      "Número de pares: 640\n",
      "Retorno médio por par: 4.3552%\n"
     ]
    }
   ],
   "source": [
    "# Retorno por par\n",
    "operations_by_pair_stop_5 = operations_stop_5.groupby(\"Pair\").sum(\"Return\")\n",
    "print(f\"Número de pares: {np.shape(operations_by_pair_stop_5)[0]}\")\n",
    "print(f\"Retorno médio por par: {round(100*operations_by_pair_stop_5['Return'].mean(),4)}%\")"
   ]
  },
  {
   "cell_type": "code",
   "execution_count": 16,
   "id": "6a72e5bf-680e-45a5-8bae-7dff266af2ef",
   "metadata": {},
   "outputs": [
    {
     "data": {
      "text/plain": [
       "<AxesSubplot:>"
      ]
     },
     "execution_count": 16,
     "metadata": {},
     "output_type": "execute_result"
    },
    {
     "data": {
      "image/png": "[encoded data removed]",
      "text/plain": [
       "<Figure size 432x288 with 1 Axes>"
      ]
     },
     "metadata": {
      "needs_background": "light"
     },
     "output_type": "display_data"
    }
   ],
   "source": [
    "rp_vw_fi_stop_5 = pd.read_csv(\"../distance_results/stop_5/Rp_vw_fi.csv\")\n",
    "rp_vw_fi_cum_stop_5 = np.cumprod(1+rp_vw_fi_stop_5['Return'])\n",
    "rp_vw_fi_cum_stop_5.plot()"
   ]
  },
  {
   "cell_type": "code",
   "execution_count": 17,
   "id": "0f72f70d-762a-4839-8dc0-3458b1522a17",
   "metadata": {},
   "outputs": [
    {
     "data": {
      "text/html": [
       "<div>\n",
       "<style scoped>\n",
       "    .dataframe tbody tr th:only-of-type {\n",
       "        vertical-align: middle;\n",
       "    }\n",
       "\n",
       "    .dataframe tbody tr th {\n",
       "        vertical-align: top;\n",
       "    }\n",
       "\n",
       "    .dataframe thead th {\n",
       "        text-align: right;\n",
       "    }\n",
       "</style>\n",
       "<table border=\"1\" class=\"dataframe\">\n",
       "  <thead>\n",
       "    <tr style=\"text-align: right;\">\n",
       "      <th></th>\n",
       "      <th>Semester</th>\n",
       "      <th>Days</th>\n",
       "      <th>S1</th>\n",
       "      <th>S2</th>\n",
       "      <th>Pair</th>\n",
       "      <th>Return</th>\n",
       "      <th>Converged</th>\n",
       "    </tr>\n",
       "  </thead>\n",
       "  <tbody>\n",
       "    <tr>\n",
       "      <th>0</th>\n",
       "      <td>0</td>\n",
       "      <td>33</td>\n",
       "      <td>JCI</td>\n",
       "      <td>1436513D</td>\n",
       "      <td>JCI-1436513D</td>\n",
       "      <td>0.000034</td>\n",
       "      <td>True</td>\n",
       "    </tr>\n",
       "    <tr>\n",
       "      <th>1</th>\n",
       "      <td>0</td>\n",
       "      <td>13</td>\n",
       "      <td>JCI</td>\n",
       "      <td>1436513D</td>\n",
       "      <td>JCI-1436513D</td>\n",
       "      <td>0.000067</td>\n",
       "      <td>True</td>\n",
       "    </tr>\n",
       "    <tr>\n",
       "      <th>2</th>\n",
       "      <td>0</td>\n",
       "      <td>28</td>\n",
       "      <td>JCI</td>\n",
       "      <td>1436513D</td>\n",
       "      <td>JCI-1436513D</td>\n",
       "      <td>0.000088</td>\n",
       "      <td>True</td>\n",
       "    </tr>\n",
       "    <tr>\n",
       "      <th>3</th>\n",
       "      <td>0</td>\n",
       "      <td>9</td>\n",
       "      <td>JCI</td>\n",
       "      <td>1436513D</td>\n",
       "      <td>JCI-1436513D</td>\n",
       "      <td>0.000049</td>\n",
       "      <td>True</td>\n",
       "    </tr>\n",
       "    <tr>\n",
       "      <th>4</th>\n",
       "      <td>0</td>\n",
       "      <td>17</td>\n",
       "      <td>JCI</td>\n",
       "      <td>1436513D</td>\n",
       "      <td>JCI-1436513D</td>\n",
       "      <td>0.000052</td>\n",
       "      <td>True</td>\n",
       "    </tr>\n",
       "  </tbody>\n",
       "</table>\n",
       "</div>"
      ],
      "text/plain": [
       "   Semester  Days   S1        S2          Pair    Return  Converged\n",
       "0         0    33  JCI  1436513D  JCI-1436513D  0.000034       True\n",
       "1         0    13  JCI  1436513D  JCI-1436513D  0.000067       True\n",
       "2         0    28  JCI  1436513D  JCI-1436513D  0.000088       True\n",
       "3         0     9  JCI  1436513D  JCI-1436513D  0.000049       True\n",
       "4         0    17  JCI  1436513D  JCI-1436513D  0.000052       True"
      ]
     },
     "execution_count": 17,
     "metadata": {},
     "output_type": "execute_result"
    }
   ],
   "source": [
    "operations_stop_7 = pd.read_csv(\"../distance_results/stop_7/operations.csv\", index_col=0)\n",
    "operations_stop_7['Return'] = operations_stop_7['Return'] - 1\n",
    "operations_stop_7.head()"
   ]
  },
  {
   "cell_type": "code",
   "execution_count": 49,
   "id": "7fe53e9c-6076-4397-90e0-d00dbdaf60ad",
   "metadata": {},
   "outputs": [
    {
     "name": "stdout",
     "output_type": "stream",
     "text": [
      "Número de operações: 3462\n",
      "Converged operations: 80.79145002888504 | Open operations: 665\n",
      "Positive Returns: 2403\n",
      "Negative Returns: 1058\n",
      "Highest Return: 0.6967173269479958\n",
      "Lowest Return: -0.06999999999999995\n",
      "Average Return: 0.006867295631199356\n",
      "Average trade lenght: 22.362796071634893\n"
     ]
    }
   ],
   "source": [
    "print(f\"Número de operações: {np.shape(operations_stop_7)[0]}\")\n",
    "print(f\"Converged operations: {100*sum(operations_stop_7['Converged'])/np.shape(operations_stop_7)[0]} | Open operations: {np.shape(operations_stop_7)[0] - sum(operations_stop_7['Converged'])}\")\n",
    "print(f\"Positive Returns: {sum(operations_stop_7['Return'] > 0)}\")\n",
    "print(f\"Negative Returns: {sum(operations_stop_7['Return'] < 0)}\")\n",
    "print(f\"Highest Return: {operations_stop_7['Return'].max()}\")\n",
    "print(f\"Lowest Return: {operations_stop_7['Return'].min()}\")\n",
    "print(f\"Average Return: {operations_stop_7['Return'].mean()}\")\n",
    "print(f\"Average trade lenght: {operations_stop_7['Days'].mean()}\")"
   ]
  },
  {
   "cell_type": "code",
   "execution_count": 48,
   "id": "ca54dfc4-cb59-4779-819c-5af193d9f06a",
   "metadata": {},
   "outputs": [
    {
     "name": "stdout",
     "output_type": "stream",
     "text": [
      "Número de pares: 640\n",
      "Retorno médio por par: 3.7148%\n"
     ]
    }
   ],
   "source": [
    "# Retorno por par\n",
    "operations_by_pair_stop_7 = operations_stop_7.groupby(\"Pair\").sum(\"Return\")\n",
    "print(f\"Número de pares: {np.shape(operations_by_pair_stop_7)[0]}\")\n",
    "print(f\"Retorno médio por par: {round(100*operations_by_pair_stop_7['Return'].mean(),4)}%\")"
   ]
  },
  {
   "cell_type": "code",
   "execution_count": 50,
   "id": "23884db7-16df-4f8b-9ef7-36f8cdc9fbeb",
   "metadata": {},
   "outputs": [
    {
     "data": {
      "text/html": [
       "<div>\n",
       "<style scoped>\n",
       "    .dataframe tbody tr th:only-of-type {\n",
       "        vertical-align: middle;\n",
       "    }\n",
       "\n",
       "    .dataframe tbody tr th {\n",
       "        vertical-align: top;\n",
       "    }\n",
       "\n",
       "    .dataframe thead th {\n",
       "        text-align: right;\n",
       "    }\n",
       "</style>\n",
       "<table border=\"1\" class=\"dataframe\">\n",
       "  <thead>\n",
       "    <tr style=\"text-align: right;\">\n",
       "      <th></th>\n",
       "      <th>Semester</th>\n",
       "      <th>Days</th>\n",
       "      <th>S1</th>\n",
       "      <th>S2</th>\n",
       "      <th>Pair</th>\n",
       "      <th>Return</th>\n",
       "      <th>Converged</th>\n",
       "    </tr>\n",
       "  </thead>\n",
       "  <tbody>\n",
       "    <tr>\n",
       "      <th>0</th>\n",
       "      <td>0</td>\n",
       "      <td>33</td>\n",
       "      <td>JCI</td>\n",
       "      <td>1436513D</td>\n",
       "      <td>JCI-1436513D</td>\n",
       "      <td>0.000034</td>\n",
       "      <td>True</td>\n",
       "    </tr>\n",
       "    <tr>\n",
       "      <th>1</th>\n",
       "      <td>0</td>\n",
       "      <td>13</td>\n",
       "      <td>JCI</td>\n",
       "      <td>1436513D</td>\n",
       "      <td>JCI-1436513D</td>\n",
       "      <td>0.000067</td>\n",
       "      <td>True</td>\n",
       "    </tr>\n",
       "    <tr>\n",
       "      <th>2</th>\n",
       "      <td>0</td>\n",
       "      <td>28</td>\n",
       "      <td>JCI</td>\n",
       "      <td>1436513D</td>\n",
       "      <td>JCI-1436513D</td>\n",
       "      <td>0.000088</td>\n",
       "      <td>True</td>\n",
       "    </tr>\n",
       "    <tr>\n",
       "      <th>3</th>\n",
       "      <td>0</td>\n",
       "      <td>9</td>\n",
       "      <td>JCI</td>\n",
       "      <td>1436513D</td>\n",
       "      <td>JCI-1436513D</td>\n",
       "      <td>0.000049</td>\n",
       "      <td>True</td>\n",
       "    </tr>\n",
       "    <tr>\n",
       "      <th>4</th>\n",
       "      <td>0</td>\n",
       "      <td>17</td>\n",
       "      <td>JCI</td>\n",
       "      <td>1436513D</td>\n",
       "      <td>JCI-1436513D</td>\n",
       "      <td>0.000052</td>\n",
       "      <td>True</td>\n",
       "    </tr>\n",
       "  </tbody>\n",
       "</table>\n",
       "</div>"
      ],
      "text/plain": [
       "   Semester  Days   S1        S2          Pair    Return  Converged\n",
       "0         0    33  JCI  1436513D  JCI-1436513D  0.000034       True\n",
       "1         0    13  JCI  1436513D  JCI-1436513D  0.000067       True\n",
       "2         0    28  JCI  1436513D  JCI-1436513D  0.000088       True\n",
       "3         0     9  JCI  1436513D  JCI-1436513D  0.000049       True\n",
       "4         0    17  JCI  1436513D  JCI-1436513D  0.000052       True"
      ]
     },
     "execution_count": 50,
     "metadata": {},
     "output_type": "execute_result"
    }
   ],
   "source": [
    "operations_stop_10 = pd.read_csv(\"../distance_results/stop_10/operations.csv\", index_col=0)\n",
    "operations_stop_10['Return'] = operations_stop_10['Return'] - 1\n",
    "operations_stop_10.head()"
   ]
  },
  {
   "cell_type": "code",
   "execution_count": 51,
   "id": "38aeb342-73b0-4818-aad2-0445209d8e25",
   "metadata": {},
   "outputs": [
    {
     "name": "stdout",
     "output_type": "stream",
     "text": [
      "Número de operações: 3171\n",
      "Converged operations: 79.06023336486912 | Open operations: 664\n",
      "Positive Returns: 2344\n",
      "Negative Returns: 826\n",
      "Highest Return: 0.6967173269479958\n",
      "Lowest Return: -0.09999999999999998\n",
      "Average Return: 0.006232500647793972\n",
      "Average trade lenght: 24.415011037527595\n"
     ]
    }
   ],
   "source": [
    "print(f\"Número de operações: {np.shape(operations_stop_10)[0]}\")\n",
    "print(f\"Converged operations: {100*sum(operations_stop_10['Converged'])/np.shape(operations_stop_10)[0]} | Open operations: {np.shape(operations_stop_10)[0] - sum(operations_stop_10['Converged'])}\")\n",
    "print(f\"Positive Returns: {sum(operations_stop_10['Return'] > 0)}\")\n",
    "print(f\"Negative Returns: {sum(operations_stop_10['Return'] < 0)}\")\n",
    "print(f\"Highest Return: {operations_stop_10['Return'].max()}\")\n",
    "print(f\"Lowest Return: {operations_stop_10['Return'].min()}\")\n",
    "print(f\"Average Return: {operations_stop_10['Return'].mean()}\")\n",
    "print(f\"Average trade lenght: {operations_stop_10['Days'].mean()}\")"
   ]
  },
  {
   "cell_type": "code",
   "execution_count": 52,
   "id": "18e8fb01-4d06-47f7-8a50-4060be1bf95e",
   "metadata": {},
   "outputs": [
    {
     "name": "stdout",
     "output_type": "stream",
     "text": [
      "Número de pares: 640\n",
      "Retorno médio por par: 3.088%\n"
     ]
    }
   ],
   "source": [
    "# Retorno por par\n",
    "operations_by_pair_stop_10 = operations_stop_10.groupby(\"Pair\").sum(\"Return\")\n",
    "print(f\"Número de pares: {np.shape(operations_by_pair_stop_10)[0]}\")\n",
    "print(f\"Retorno médio por par: {round(100*operations_by_pair_stop_10['Return'].mean(),4)}%\")"
   ]
  },
  {
   "cell_type": "code",
   "execution_count": 61,
   "id": "dbef3b6a-da8a-4684-a0d8-6ee32bca7d00",
   "metadata": {},
   "outputs": [
    {
     "name": "stdout",
     "output_type": "stream",
     "text": [
      "Número de operações: 3429\n",
      "Converged operations: 78.71099445902595 | Open operations: 922\n",
      "Positive Returns: 2808\n",
      "Negative Returns: 621\n",
      "Highest Return: 0.2444590025207083\n",
      "Lowest Return: -0.6262606974988025\n",
      "Average Return: 0.0024740261654948234\n",
      "Average trade lenght: 25.749781277340333\n",
      "Número de pares: 642\n",
      "Retorno médio por par: 1.3214%\n"
     ]
    }
   ],
   "source": [
    "operations_sigma_1 = pd.read_csv(\"../distance_results/threshold_1/operations.csv\", index_col=0)\n",
    "operations_sigma_1['Return'] = operations_sigma_1['Return'] - 1\n",
    "operations_sigma_1.head()\n",
    "print(f\"Número de operações: {np.shape(operations_sigma_1)[0]}\")\n",
    "print(f\"Converged operations: {100*sum(operations_sigma_1['Converged'])/np.shape(operations_sigma_1)[0]} | Open operations: {np.shape(operations_sigma_1)[0] - sum(operations_stop_10['Converged'])}\")\n",
    "print(f\"Positive Returns: {sum(operations_sigma_1['Return'] > 0)}\")\n",
    "print(f\"Negative Returns: {sum(operations_sigma_1['Return'] < 0)}\")\n",
    "print(f\"Highest Return: {operations_sigma_1['Return'].max()}\")\n",
    "print(f\"Lowest Return: {operations_sigma_1['Return'].min()}\")\n",
    "print(f\"Average Return: {operations_sigma_1['Return'].mean()}\")\n",
    "print(f\"Average trade lenght: {operations_sigma_1['Days'].mean()}\")\n",
    "# Retorno por par\n",
    "operations_sigma_1 = operations_sigma_1.groupby(\"Pair\").sum(\"Return\")\n",
    "print(f\"Número de pares: {np.shape(operations_sigma_1)[0]}\")\n",
    "print(f\"Retorno médio por par: {round(100*operations_sigma_1['Return'].mean(),4)}%\")"
   ]
  },
  {
   "cell_type": "code",
   "execution_count": 62,
   "id": "8948cc61-c214-449f-97d6-b94764305a63",
   "metadata": {},
   "outputs": [
    {
     "name": "stdout",
     "output_type": "stream",
     "text": [
      "Número de operações: 2157\n",
      "Converged operations: 71.256374594344 | Open operations: -350\n",
      "Positive Returns: 1647\n",
      "Negative Returns: 510\n",
      "Highest Return: 0.2259076305200185\n",
      "Lowest Return: -0.6163038130033693\n",
      "Average Return: 0.004344958525105989\n",
      "Average trade lenght: 30.835419564209552\n",
      "Número de pares: 635\n",
      "Retorno médio por par: 1.4759%\n"
     ]
    }
   ],
   "source": [
    "operations_sigma_2 = pd.read_csv(\"../distance_results/threshold_2/operations.csv\", index_col=0)\n",
    "operations_sigma_2['Return'] = operations_sigma_2['Return'] - 1\n",
    "operations_sigma_2.head()\n",
    "print(f\"Número de operações: {np.shape(operations_sigma_2)[0]}\")\n",
    "print(f\"Converged operations: {100*sum(operations_sigma_2['Converged'])/np.shape(operations_sigma_2)[0]} | Open operations: {np.shape(operations_sigma_2)[0] - sum(operations_stop_10['Converged'])}\")\n",
    "print(f\"Positive Returns: {sum(operations_sigma_2['Return'] > 0)}\")\n",
    "print(f\"Negative Returns: {sum(operations_sigma_2['Return'] < 0)}\")\n",
    "print(f\"Highest Return: {operations_sigma_2['Return'].max()}\")\n",
    "print(f\"Lowest Return: {operations_sigma_2['Return'].min()}\")\n",
    "print(f\"Average Return: {operations_sigma_2['Return'].mean()}\")\n",
    "print(f\"Average trade lenght: {operations_sigma_2['Days'].mean()}\")\n",
    "# Retorno por par\n",
    "operations_sigma_2 = operations_sigma_2.groupby(\"Pair\").sum(\"Return\")\n",
    "print(f\"Número de pares: {np.shape(operations_sigma_2)[0]}\")\n",
    "print(f\"Retorno médio por par: {round(100*operations_sigma_2['Return'].mean(),4)}%\")"
   ]
  },
  {
   "cell_type": "code",
   "execution_count": 78,
   "id": "da60148d-45a5-4519-a808-9c7ff5d4c8bb",
   "metadata": {},
   "outputs": [],
   "source": [
    "operations_by_period = {}\n",
    "for index, row in operations.iterrows():\n",
    "    period = int(row['Days']/10)\n",
    "    positive_return = row['Return'] >= 0\n",
    "    operation_return = row['Return']\n",
    "    if period not in operations_by_period:\n",
    "        operations_by_period[period] = {\"positive\": 0, \"negative\": 0, \"return\": 0}\n",
    "    \n",
    "    if positive_return:\n",
    "        operations_by_period[period]['positive'] += 1\n",
    "    else:\n",
    "        operations_by_period[period]['negative'] += 1\n",
    "            \n",
    "    operations_by_period[period]['return'] += operation_return\n",
    "        \n",
    "pd.DataFrame(operations_by_period).to_csv(\"operations_period.csv\")"
   ]
  },
  {
   "cell_type": "code",
   "execution_count": 88,
   "id": "8928e7e3-e359-4d15-b41b-b7b92d0370ec",
   "metadata": {},
   "outputs": [
    {
     "name": "stdout",
     "output_type": "stream",
     "text": [
      "Número de operações: 2745\n",
      "Converged operations: 70.60109289617486 | Open operations: 807\n",
      "Positive Returns: 2088\n",
      "Negative Returns: 657\n",
      "Highest Return: 0.2444590025207083\n",
      "Lowest Return: -0.5396204931710378\n",
      "Average Return: 0.004047381216443691\n",
      "Average trade lenght: 20.289253187613845\n",
      "Número de pares: 640\n",
      "Retorno médio por par: 1.7359%\n"
     ]
    }
   ],
   "source": [
    "operations_day_limit = pd.read_csv(\"../distance_results/duration_limit/operations.csv\", index_col=0)\n",
    "operations_day_limit['Return'] = operations_day_limit['Return'] - 1\n",
    "operations_day_limit.head()\n",
    "print(f\"Número de operações: {np.shape(operations_day_limit)[0]}\")\n",
    "print(f\"Converged operations: {100*sum(operations_day_limit['Converged'])/np.shape(operations_day_limit)[0]} | Open operations: {np.shape(operations_day_limit)[0] - sum(operations_day_limit['Converged'])}\")\n",
    "print(f\"Positive Returns: {sum(operations_day_limit['Return'] > 0)}\")\n",
    "print(f\"Negative Returns: {sum(operations_day_limit['Return'] < 0)}\")\n",
    "print(f\"Highest Return: {operations_day_limit['Return'].max()}\")\n",
    "print(f\"Lowest Return: {operations_day_limit['Return'].min()}\")\n",
    "print(f\"Average Return: {operations_day_limit['Return'].mean()}\")\n",
    "print(f\"Average trade lenght: {operations_day_limit['Days'].mean()}\")\n",
    "# Retorno por par\n",
    "operations_day_limit = operations_day_limit.groupby(\"Pair\").sum(\"Return\")\n",
    "print(f\"Número de pares: {np.shape(operations_day_limit)[0]}\")\n",
    "print(f\"Retorno médio por par: {round(100*operations_day_limit['Return'].mean(),4)}%\")"
   ]
  },
  {
   "cell_type": "code",
   "execution_count": 87,
   "id": "7bc84836-de4f-4c13-b9a4-8821577d93e0",
   "metadata": {},
   "outputs": [
    {
     "name": "stdout",
     "output_type": "stream",
     "text": [
      "Compound interest rate is 2.157788440552963 %\n"
     ]
    },
    {
     "data": {
      "image/png": "[encoded data removed]",
      "text/plain": [
       "<Figure size 432x288 with 1 Axes>"
      ]
     },
     "metadata": {
      "needs_background": "light"
     },
     "output_type": "display_data"
    }
   ],
   "source": [
    "def rate_interest(principal, final_amount, time):\n",
    "    rate = (100 * (final_amount/principal)**(1/time)) - 100\n",
    "    print(\"Compound interest rate is\", rate, \"%\")\n",
    "\n",
    "cumulative = np.cumprod(1+daily_returns_cc['Return'])\n",
    "cumulative.plot()\n",
    "rate_interest(1,cumulative.values[-1],25)"
   ]
  },
  {
   "cell_type": "code",
   "execution_count": 58,
   "id": "b10a0ec3-2aeb-4fb3-8efc-6ca77ed14379",
   "metadata": {},
   "outputs": [
    {
     "name": "stdout",
     "output_type": "stream",
     "text": [
      "6239\n"
     ]
    }
   ],
   "source": [
    "from datetime import date\n",
    "\n",
    "d0 = date(1991, 8, 1)\n",
    "d1 = date(2015, 7, 1)\n",
    "days = np.busday_count( d0, d1 )\n",
    "print(days)"
   ]
  }
 ],
 "metadata": {
  "kernelspec": {
   "display_name": "Python 3 (ipykernel)",
   "language": "python",
   "name": "python3"
  },
  "language_info": {
   "codemirror_mode": {
    "name": "ipython",
    "version": 3
   },
   "file_extension": ".py",
   "mimetype": "text/x-python",
   "name": "python",
   "nbconvert_exporter": "python",
   "pygments_lexer": "ipython3",
   "version": "3.8.7"
  }
 },
 "nbformat": 4,
 "nbformat_minor": 5
}
