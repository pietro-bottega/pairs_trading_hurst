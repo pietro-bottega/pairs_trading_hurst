{
 "cells": [
  {
   "cell_type": "code",
   "execution_count": 2,
   "id": "c28cd82f-1e56-4606-baab-eb5729ebd759",
   "metadata": {},
   "outputs": [],
   "source": [
    "import pandas as pd\n",
    "import numpy as np\n",
    "from matplotlib import pyplot as plt\n",
    "import yfinance as yf"
   ]
  },
  {
   "cell_type": "code",
   "execution_count": 3,
   "id": "b53fd282-ec1b-4310-9d1c-3b8616f0521a",
   "metadata": {},
   "outputs": [
    {
     "name": "stdout",
     "output_type": "stream",
     "text": [
      "[*********************100%***********************]  1 of 1 completed\n",
      "(6168, 2)\n"
     ]
    },
    {
     "data": {
      "text/html": [
       "<div>\n",
       "<style scoped>\n",
       "    .dataframe tbody tr th:only-of-type {\n",
       "        vertical-align: middle;\n",
       "    }\n",
       "\n",
       "    .dataframe tbody tr th {\n",
       "        vertical-align: top;\n",
       "    }\n",
       "\n",
       "    .dataframe thead th {\n",
       "        text-align: right;\n",
       "    }\n",
       "</style>\n",
       "<table border=\"1\" class=\"dataframe\">\n",
       "  <thead>\n",
       "    <tr style=\"text-align: right;\">\n",
       "      <th></th>\n",
       "      <th>annualized</th>\n",
       "      <th>daily</th>\n",
       "    </tr>\n",
       "    <tr>\n",
       "      <th>Date</th>\n",
       "      <th></th>\n",
       "      <th></th>\n",
       "    </tr>\n",
       "  </thead>\n",
       "  <tbody>\n",
       "    <tr>\n",
       "      <th>1991-06-03</th>\n",
       "      <td>5.60</td>\n",
       "      <td>0.000052</td>\n",
       "    </tr>\n",
       "    <tr>\n",
       "      <th>1991-06-04</th>\n",
       "      <td>5.57</td>\n",
       "      <td>0.000052</td>\n",
       "    </tr>\n",
       "    <tr>\n",
       "      <th>1991-06-05</th>\n",
       "      <td>5.59</td>\n",
       "      <td>0.000052</td>\n",
       "    </tr>\n",
       "    <tr>\n",
       "      <th>1991-06-06</th>\n",
       "      <td>5.56</td>\n",
       "      <td>0.000052</td>\n",
       "    </tr>\n",
       "    <tr>\n",
       "      <th>1991-06-07</th>\n",
       "      <td>5.56</td>\n",
       "      <td>0.000052</td>\n",
       "    </tr>\n",
       "  </tbody>\n",
       "</table>\n",
       "</div>"
      ],
      "text/plain": [
       "            annualized     daily\n",
       "Date                            \n",
       "1991-06-03        5.60  0.000052\n",
       "1991-06-04        5.57  0.000052\n",
       "1991-06-05        5.59  0.000052\n",
       "1991-06-06        5.56  0.000052\n",
       "1991-06-07        5.56  0.000052"
      ]
     },
     "execution_count": 3,
     "metadata": {},
     "output_type": "execute_result"
    }
   ],
   "source": [
    "# Coleta da taxa de retorno risk free\n",
    "\n",
    "def deannualize(annual_rate, periods=365):\n",
    "    return (1 + annual_rate) ** (1/periods) - 1\n",
    "\n",
    "annualized = yf.download(\"^IRX\", start=\"1991-06-01\", end=\"2015-12-31\")[\"Adj Close\"]\n",
    "daily = annualized.apply(deannualize)\n",
    "\n",
    "# create dataframe\n",
    "risk_free_rates = pd.DataFrame({\"annualized\": annualized, \"daily\": daily})\n",
    "risk_free_rates['daily'] = risk_free_rates['daily'] / 100\n",
    "print(np.shape(risk_free_rates))\n",
    "risk_free_rates.head()"
   ]
  },
  {
   "cell_type": "code",
   "execution_count": 35,
   "id": "2eb1d4e3-1635-4c59-966a-24fded3a5afb",
   "metadata": {},
   "outputs": [
    {
     "name": "stdout",
     "output_type": "stream",
     "text": [
      "      Operação  Semestre  Abertura  Fechamento  Dias  Retorno total Ticker 1  \\\n",
      "2536         1        48      6298        6310    12       0.098565      ABT   \n",
      "2537         2        48      6334        6336     2       0.035842      ABT   \n",
      "2538         3        48      6403        6414    11       0.062250      ABT   \n",
      "2539         1        48      6320        6334    14       0.131276       DE   \n",
      "2540         2        48      6411        6424    13      -0.014710       DE   \n",
      "\n",
      "     Ticker 2  Converged       Index  Retorno total - exp      Pair  \n",
      "2536     EBAY       True  ABT-EBAY-1             1.103586  ABT-EBAY  \n",
      "2537     EBAY       True  ABT-EBAY-2             1.036492  ABT-EBAY  \n",
      "2538     EBAY       True  ABT-EBAY-3             1.064228  ABT-EBAY  \n",
      "2539      TSN       True    DE-TSN-1             1.140283    DE-TSN  \n",
      "2540      TSN      False    DE-TSN-2             0.985397    DE-TSN  \n"
     ]
    }
   ],
   "source": [
    "operations = pd.read_csv(\"../cointegration_results/operations_test.csv\")\n",
    "operations['Pair'] = operations['Index'].str[:-2]\n",
    "print(operations.tail())"
   ]
  },
  {
   "cell_type": "code",
   "execution_count": 38,
   "id": "5e0fb83d-4d24-457c-8f0b-da6b5bcc9c91",
   "metadata": {},
   "outputs": [
    {
     "name": "stdout",
     "output_type": "stream",
     "text": [
      "Número de operações: 2541\n",
      "Positive Returns: 2133 | Negative: 328\n",
      "Highest Return: 0.473087447258671\n",
      "Lowest Return: -0.3093358534634691\n",
      "Average Return: 0.041952482918907644\n",
      "Average trade lenght: 11.777253049980322\n",
      "Convergência: 81.07044470680835\n"
     ]
    }
   ],
   "source": [
    "#print(f\"Converged operations: {sum(operations['Converged'])} | Open operations: {np.shape(operations)[0] - sum(operations['Converged'])}\")\n",
    "print(f\"Número de operações: {np.shape(operations)[0]}\")\n",
    "print(f\"Positive Returns: {sum(operations['Retorno total'] > 0)} | Negative: {sum(operations['Retorno total'] < 0)}\")\n",
    "print(f\"Highest Return: {operations['Retorno total'].max()}\")\n",
    "print(f\"Lowest Return: {operations['Retorno total'].min()}\")\n",
    "print(f\"Average Return: {operations['Retorno total'].mean()}\")\n",
    "print(f\"Average trade lenght: {operations['Dias'].mean()}\")\n",
    "print(f\"Convergência: {(operations['Converged'].sum()/np.shape(operations)[0])*100}\")"
   ]
  },
  {
   "cell_type": "code",
   "execution_count": 29,
   "id": "bb9f0667-e931-4fc7-9b4b-4fb6265456b4",
   "metadata": {},
   "outputs": [
    {
     "data": {
      "image/png": "[encoded data removed]",
      "text/plain": [
       "<Figure size 1080x504 with 1 Axes>"
      ]
     },
     "metadata": {
      "needs_background": "light"
     },
     "output_type": "display_data"
    }
   ],
   "source": [
    "# Return Distribution\n",
    "fig = plt.figure(figsize=(15, 7))\n",
    "ax1 = fig.add_subplot(1, 1, 1)\n",
    "operations['Retorno total'].hist(bins=50, ax=ax1)\n",
    "ax1.set_xlabel('Retorno')\n",
    "ax1.set_ylabel('Amostra')\n",
    "ax1.set_title('Distribuição dos Retornos')\n",
    "plt.show()"
   ]
  },
  {
   "cell_type": "code",
   "execution_count": 39,
   "id": "8ee17e03-9bd8-457a-bfbb-40fd12e78f69",
   "metadata": {},
   "outputs": [
    {
     "name": "stdout",
     "output_type": "stream",
     "text": [
      "Número de pares: 973\n",
      "Retorno médio por par: 10.9559%\n"
     ]
    }
   ],
   "source": [
    "# Retorno por par\n",
    "operations_by_pair = operations.groupby(\"Pair\").sum(\"Retorno total\")\n",
    "print(f\"Número de pares: {np.shape(operations_by_pair)[0]}\")\n",
    "print(f\"Retorno médio por par: {round(100*operations_by_pair['Retorno total'].mean(),4)}%\")"
   ]
  },
  {
   "cell_type": "code",
   "execution_count": 40,
   "id": "d808ab2f-854d-41d7-a9b9-05abf3acf38f",
   "metadata": {},
   "outputs": [],
   "source": [
    "# Ações com maior participação\n",
    "stock_count = {}\n",
    "\n",
    "for pair in operations_by_pair.index:\n",
    "    stocks = pair.split(\"-\")\n",
    "    for stock in stocks:   \n",
    "        if stock in stock_count:\n",
    "            stock_count[stock] += 1\n",
    "        else:\n",
    "            stock_count[stock] = 1\n",
    "stock_count_df = pd.DataFrame(stock_count.items()) \n",
    "stock_count_df = stock_count_df.sort_values(1)\n",
    "stock_count_df.to_csv(\"../cointegration_results/stock_count_20_pairs_test.csv\")"
   ]
  },
  {
   "cell_type": "code",
   "execution_count": 39,
   "id": "0e845340-f9bf-4fa9-a04d-3bc270e84de1",
   "metadata": {},
   "outputs": [
    {
     "name": "stdout",
     "output_type": "stream",
     "text": [
      "Compound interest rate is [12.67004828] %\n"
     ]
    },
    {
     "data": {
      "image/png": "[encoded data removed]",
      "text/plain": [
       "<Figure size 432x288 with 1 Axes>"
      ]
     },
     "metadata": {
      "needs_background": "light"
     },
     "output_type": "display_data"
    }
   ],
   "source": [
    "def rate_interest(principal, final_amount, time):\n",
    "    rate = (100 * (final_amount/principal)**(1/time)) - 100\n",
    "    print(\"Compound interest rate is\", rate, \"%\")\n",
    "\n",
    "daily_returns = pd.read_csv(\"../cointegration_results/daily_returns_test.csv\")\n",
    "daily_returns = daily_returns.iloc[252:,:]\n",
    "daily_returns = daily_returns / 35\n",
    "cumulative = np.cumprod(1+daily_returns)\n",
    "cumulative.plot()\n",
    "rate_interest(1,cumulative.values[-1],25)"
   ]
  },
  {
   "cell_type": "code",
   "execution_count": 14,
   "id": "0d12f1ee-7977-4d5a-837f-a119998f2e0c",
   "metadata": {},
   "outputs": [
    {
     "name": "stdout",
     "output_type": "stream",
     "text": [
      "Mean daily return: 0.0004895250452600951\n",
      "Mean risk free return: 2.9473073283260452e-05\n",
      "Fully Invested Sharpe Ratio: 0.1280472917056657\n"
     ]
    }
   ],
   "source": [
    "# Cálculo do Sharpe para o período do estudo\n",
    "mean_daily_return = daily_returns.values.mean()\n",
    "print(f\"Mean daily return: {mean_daily_return}\")\n",
    "returns_std_dev = daily_returns.values.std()\n",
    "\n",
    "risk_free_mean = risk_free_rates['daily'].mean()\n",
    "print(f\"Mean risk free return: {risk_free_mean}\")\n",
    "\n",
    "print(f\"Fully Invested Sharpe Ratio: {(mean_daily_return - risk_free_mean) / returns_std_dev}\")"
   ]
  },
  {
   "cell_type": "code",
   "execution_count": 19,
   "id": "a5c9b9c8-a103-4a9d-89c7-64f4ef4b196c",
   "metadata": {},
   "outputs": [
    {
     "name": "stdout",
     "output_type": "stream",
     "text": [
      "[*********************100%***********************]  1 of 1 completed\n",
      "(6174,)\n",
      "Compound interest rate is 7.0254359498750745 %\n"
     ]
    },
    {
     "data": {
      "image/png": "[encoded data removed]",
      "text/plain": [
       "<Figure size 432x288 with 1 Axes>"
      ]
     },
     "metadata": {
      "needs_background": "light"
     },
     "output_type": "display_data"
    }
   ],
   "source": [
    "from pandas_datareader import data as pdr\n",
    "import datetime\n",
    "import yfinance as yf\n",
    "yf.pdr_override()\n",
    "\n",
    "start = datetime.datetime(1991, 7, 1)\n",
    "end = datetime.datetime(2015, 12, 31)\n",
    "\n",
    "tickers = ['^GSPC']\n",
    "\n",
    "data = pdr.get_data_yahoo(tickers, start, end)['Close']\n",
    "print(np.shape(data))\n",
    "data.plot()\n",
    "\n",
    "rate_interest(data.values[0], data.values[-1], 25)"
   ]
  },
  {
   "cell_type": "code",
   "execution_count": 26,
   "id": "df55e0d7-4227-4752-81da-e41bb1cf17fc",
   "metadata": {},
   "outputs": [
    {
     "name": "stdout",
     "output_type": "stream",
     "text": [
      "Número de operações: 2896\n",
      "Positive Returns: 2158 | Negative: 640\n",
      "Highest Return: 0.5217699075776943\n",
      "Lowest Return: -0.0883839099028303\n",
      "Average Return: 0.03545810318275358\n",
      "Average trade lenght: 10.136049723756907\n",
      "Convergência: 83.94337016574586\n"
     ]
    }
   ],
   "source": [
    "operations_stop_5 = pd.read_csv(\"../cointegration_results/stop_5/operations.csv\", index_col=0)\n",
    "operations_stop_5['Pair'] = operations_stop_5['Index'].str[:-2]\n",
    "operations_stop_5.head()\n",
    "print(f\"Número de operações: {np.shape(operations_stop_5)[0]}\")\n",
    "print(f\"Positive Returns: {sum(operations_stop_5['Retorno total'] > 0)} | Negative: {sum(operations_stop_5['Retorno total'] < 0)}\")\n",
    "print(f\"Highest Return: {operations_stop_5['Retorno total'].max()}\")\n",
    "print(f\"Lowest Return: {operations_stop_5['Retorno total'].min()}\")\n",
    "print(f\"Average Return: {operations_stop_5['Retorno total'].mean()}\")\n",
    "print(f\"Average trade lenght: {operations_stop_5['Dias'].mean()}\")\n",
    "print(f\"Convergência: {(operations_stop_5['Converged'].sum()/np.shape(operations_stop_5)[0])*100}\")"
   ]
  },
  {
   "cell_type": "code",
   "execution_count": 27,
   "id": "5f4349a2-5de9-40b0-a5bf-674d658ca70c",
   "metadata": {},
   "outputs": [
    {
     "name": "stdout",
     "output_type": "stream",
     "text": [
      "Número de pares: 973\n",
      "Retorno médio por par: 10.5536%\n"
     ]
    }
   ],
   "source": [
    "# Retorno por par\n",
    "operations_by_pair_stop_5 = operations_stop_5.groupby(\"Pair\").sum(\"Retorno total\")\n",
    "print(f\"Número de pares: {np.shape(operations_by_pair_stop_5)[0]}\")\n",
    "print(f\"Retorno médio por par: {round(100*operations_by_pair_stop_5['Retorno total'].mean(),4)}%\")"
   ]
  },
  {
   "cell_type": "code",
   "execution_count": 28,
   "id": "338fc7e1-fdf2-49d9-b22e-f971b03de418",
   "metadata": {},
   "outputs": [
    {
     "name": "stdout",
     "output_type": "stream",
     "text": [
      "Número de operações: 2733\n",
      "Positive Returns: 2151 | Negative: 492\n",
      "Highest Return: 0.473087447258671\n",
      "Lowest Return: -0.0883839099028303\n",
      "Average Return: 0.03818681424731353\n",
      "Average trade lenght: 10.840102451518478\n",
      "Convergência: 82.61983168679107\n"
     ]
    }
   ],
   "source": [
    "operations_stop_7 = pd.read_csv(\"../cointegration_results/stop_7/operations.csv\", index_col=0)\n",
    "operations_stop_7['Pair'] = operations_stop_7['Index'].str[:-2]\n",
    "operations_stop_7.head()\n",
    "print(f\"Número de operações: {np.shape(operations_stop_7)[0]}\")\n",
    "print(f\"Positive Returns: {sum(operations_stop_7['Retorno total'] > 0)} | Negative: {sum(operations_stop_7['Retorno total'] < 0)}\")\n",
    "print(f\"Highest Return: {operations_stop_7['Retorno total'].max()}\")\n",
    "print(f\"Lowest Return: {operations_stop_7['Retorno total'].min()}\")\n",
    "print(f\"Average Return: {operations_stop_7['Retorno total'].mean()}\")\n",
    "print(f\"Average trade lenght: {operations_stop_7['Dias'].mean()}\")\n",
    "print(f\"Convergência: {(operations_stop_7['Converged'].sum()/np.shape(operations_stop_7)[0])*100}\")"
   ]
  },
  {
   "cell_type": "code",
   "execution_count": 29,
   "id": "c8c3c186-7283-4527-b75c-a10061c34706",
   "metadata": {},
   "outputs": [
    {
     "name": "stdout",
     "output_type": "stream",
     "text": [
      "Número de pares: 973\n",
      "Retorno médio por par: 10.7261%\n"
     ]
    }
   ],
   "source": [
    "# Retorno por par\n",
    "operations_by_pair_stop_7 = operations_stop_7.groupby(\"Pair\").sum(\"Retorno total\")\n",
    "print(f\"Número de pares: {np.shape(operations_by_pair_stop_7)[0]}\")\n",
    "print(f\"Retorno médio por par: {round(100*operations_by_pair_stop_7['Retorno total'].mean(),4)}%\")"
   ]
  },
  {
   "cell_type": "code",
   "execution_count": 30,
   "id": "74968ebd-49a6-47a1-ba7d-99d494208add",
   "metadata": {},
   "outputs": [
    {
     "name": "stdout",
     "output_type": "stream",
     "text": [
      "Número de operações: 2624\n",
      "Positive Returns: 2146 | Negative: 394\n",
      "Highest Return: 0.527502281045868\n",
      "Lowest Return: -0.119613681814422\n",
      "Average Return: 0.040970366903023026\n",
      "Average trade lenght: 11.360518292682928\n",
      "Convergência: 81.82164634146342\n"
     ]
    }
   ],
   "source": [
    "operations_stop_10 = pd.read_csv(\"../cointegration_results/stop_10/operations.csv\", index_col=0)\n",
    "operations_stop_10['Pair'] = operations_stop_10['Index'].str[:-2]\n",
    "operations_stop_10.head()\n",
    "print(f\"Número de operações: {np.shape(operations_stop_10)[0]}\")\n",
    "print(f\"Positive Returns: {sum(operations_stop_10['Retorno total'] > 0)} | Negative: {sum(operations_stop_10['Retorno total'] < 0)}\")\n",
    "print(f\"Highest Return: {operations_stop_10['Retorno total'].max()}\")\n",
    "print(f\"Lowest Return: {operations_stop_10['Retorno total'].min()}\")\n",
    "print(f\"Average Return: {operations_stop_10['Retorno total'].mean()}\")\n",
    "print(f\"Average trade lenght: {operations_stop_10['Dias'].mean()}\")\n",
    "print(f\"Convergência: {(operations_stop_10['Converged'].sum()/np.shape(operations_stop_10)[0])*100}\")"
   ]
  },
  {
   "cell_type": "code",
   "execution_count": 31,
   "id": "3bac68cb-8281-4b8d-9831-74841d9838be",
   "metadata": {},
   "outputs": [
    {
     "name": "stdout",
     "output_type": "stream",
     "text": [
      "Número de pares: 973\n",
      "Retorno médio por par: 11.0489%\n"
     ]
    }
   ],
   "source": [
    "# Retorno por par\n",
    "operations_by_pair_stop_10 = operations_stop_10.groupby(\"Pair\").sum(\"Retorno total\")\n",
    "print(f\"Número de pares: {np.shape(operations_by_pair_stop_10)[0]}\")\n",
    "print(f\"Retorno médio por par: {round(100*operations_by_pair_stop_10['Retorno total'].mean(),4)}%\")"
   ]
  },
  {
   "cell_type": "code",
   "execution_count": 32,
   "id": "f6713327-9d66-4c39-a859-ad3e1acb1b37",
   "metadata": {},
   "outputs": [
    {
     "name": "stdout",
     "output_type": "stream",
     "text": [
      "Número de operações: 4242\n",
      "Positive Returns: 3306 | Negative: 735\n",
      "Highest Return: 0.5944235105877524\n",
      "Lowest Return: -0.3576448089750053\n",
      "Average Return: 0.027633472079606015\n",
      "Average trade lenght: 14.254125412541255\n",
      "Convergência: 84.37057991513437\n",
      "Número de pares: 1013\n",
      "Retorno médio por par: 11.5717%\n"
     ]
    }
   ],
   "source": [
    "operations_sigma_1 = pd.read_csv(\"../cointegration_results/threshold_1/operations.csv\", index_col=0)\n",
    "operations_sigma_1['Pair'] = operations_sigma_1['Index'].str[:-2]\n",
    "operations_sigma_1.head()\n",
    "print(f\"Número de operações: {np.shape(operations_sigma_1)[0]}\")\n",
    "print(f\"Positive Returns: {sum(operations_sigma_1['Retorno total'] > 0)} | Negative: {sum(operations_sigma_1['Retorno total'] < 0)}\")\n",
    "print(f\"Highest Return: {operations_sigma_1['Retorno total'].max()}\")\n",
    "print(f\"Lowest Return: {operations_sigma_1['Retorno total'].min()}\")\n",
    "print(f\"Average Return: {operations_sigma_1['Retorno total'].mean()}\")\n",
    "print(f\"Average trade lenght: {operations_sigma_1['Dias'].mean()}\")\n",
    "print(f\"Convergência: {(operations_sigma_1['Converged'].sum()/np.shape(operations_sigma_1)[0])*100}\")\n",
    "# Retorno por par\n",
    "operations_sigma_1 = operations_sigma_1.groupby(\"Pair\").sum(\"Retorno total\")\n",
    "print(f\"Número de pares: {np.shape(operations_sigma_1)[0]}\")\n",
    "print(f\"Retorno médio por par: {round(100*operations_sigma_1['Retorno total'].mean(),4)}%\")"
   ]
  },
  {
   "cell_type": "code",
   "execution_count": 33,
   "id": "baddb659-2b28-4b42-938f-3ac8867d3bb6",
   "metadata": {},
   "outputs": [
    {
     "name": "stdout",
     "output_type": "stream",
     "text": [
      "Número de operações: 1071\n",
      "Positive Returns: 913 | Negative: 112\n",
      "Highest Return: 0.5499908026553171\n",
      "Lowest Return: -0.2049867237521339\n",
      "Average Return: 0.05656146740480111\n",
      "Average trade lenght: 8.721755368814192\n",
      "Convergência: 77.40429505135388\n",
      "Número de pares: 766\n",
      "Retorno médio por par: 7.9083%\n"
     ]
    }
   ],
   "source": [
    "operations_sigma_2 = pd.read_csv(\"../cointegration_results/threshold_2/operations.csv\", index_col=0)\n",
    "operations_sigma_2['Pair'] = operations_sigma_2['Index'].str[:-2]\n",
    "operations_sigma_2.head()\n",
    "print(f\"Número de operações: {np.shape(operations_sigma_2)[0]}\")\n",
    "print(f\"Positive Returns: {sum(operations_sigma_2['Retorno total'] > 0)} | Negative: {sum(operations_sigma_2['Retorno total'] < 0)}\")\n",
    "print(f\"Highest Return: {operations_sigma_2['Retorno total'].max()}\")\n",
    "print(f\"Lowest Return: {operations_sigma_2['Retorno total'].min()}\")\n",
    "print(f\"Average Return: {operations_sigma_2['Retorno total'].mean()}\")\n",
    "print(f\"Average trade lenght: {operations_sigma_2['Dias'].mean()}\")\n",
    "print(f\"Convergência: {(operations_sigma_2['Converged'].sum()/np.shape(operations_sigma_2)[0])*100}\")\n",
    "# Retorno por par\n",
    "operations_sigma_2 = operations_sigma_2.groupby(\"Pair\").sum(\"Retorno total\")\n",
    "print(f\"Número de pares: {np.shape(operations_sigma_2)[0]}\")\n",
    "print(f\"Retorno médio por par: {round(100*operations_sigma_2['Retorno total'].mean(),4)}%\")"
   ]
  },
  {
   "cell_type": "code",
   "execution_count": 37,
   "id": "ffe4aecd-ee06-4955-af92-ebc4952909f2",
   "metadata": {},
   "outputs": [],
   "source": [
    "operations_by_period = {}\n",
    "for index, row in operations.iterrows():\n",
    "    period = int(row['Dias']/10)\n",
    "    positive_return = row['Retorno total'] >= 0\n",
    "    operation_return = row['Retorno total']\n",
    "    if period not in operations_by_period:\n",
    "        operations_by_period[period] = {\"positive\": 0, \"negative\": 0, \"return\": 0}\n",
    "    \n",
    "    if positive_return:\n",
    "        operations_by_period[period]['positive'] += 1\n",
    "    else:\n",
    "        operations_by_period[period]['negative'] += 1\n",
    "            \n",
    "    operations_by_period[period]['return'] += operation_return\n",
    "        \n",
    "pd.DataFrame(operations_by_period).to_csv(\"../cointegration_results/duration_limit/operations_period.csv\")"
   ]
  },
  {
   "cell_type": "code",
   "execution_count": 38,
   "id": "0b66f6a5-dd09-4afb-9f3d-92aaf39d0f71",
   "metadata": {},
   "outputs": [
    {
     "data": {
      "text/plain": [
       "46"
      ]
     },
     "execution_count": 38,
     "metadata": {},
     "output_type": "execute_result"
    }
   ],
   "source": [
    "operations['Dias'].max()"
   ]
  }
 ],
 "metadata": {
  "kernelspec": {
   "display_name": "Python 3 (ipykernel)",
   "language": "python",
   "name": "python3"
  },
  "language_info": {
   "codemirror_mode": {
    "name": "ipython",
    "version": 3
   },
   "file_extension": ".py",
   "mimetype": "text/x-python",
   "name": "python",
   "nbconvert_exporter": "python",
   "pygments_lexer": "ipython3",
   "version": "3.8.7"
  }
 },
 "nbformat": 4,
 "nbformat_minor": 5
}
