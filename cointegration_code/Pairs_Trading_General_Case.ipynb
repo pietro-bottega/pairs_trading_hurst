{
 "cells": [
  {
   "cell_type": "code",
   "execution_count": 1,
   "metadata": {},
   "outputs": [],
   "source": [
    "import numpy as np\n",
    "import pandas as pd\n",
    "import statsmodels\n",
    "import statsmodels.api as sm\n",
    "from statsmodels.tsa.stattools import coint, adfuller\n",
    "from sklearn.linear_model import LinearRegression\n",
    "import matplotlib.pyplot as plt\n",
    "import seaborn as sns; sns.set(style=\"whitegrid\")\n",
    "pd.core.common.is_list_like = pd.api.types.is_list_like\n",
    "from pandas_datareader import data as pdr\n",
    "import datetime\n",
    "import yfinance as yf\n",
    "yf.pdr_override()"
   ]
  },
  {
   "cell_type": "markdown",
   "metadata": {},
   "source": [
    "## Funções Importantes"
   ]
  },
  {
   "cell_type": "code",
   "execution_count": 2,
   "metadata": {},
   "outputs": [],
   "source": [
    "#ADF test\n",
    "# MQO para encontrar o cointegrated coefficient e criando a series do spread\n",
    "def OLS(data_ticker1, data_ticker2):\n",
    "    spread = sm.OLS(data_ticker1,data_ticker2)\n",
    "    spread = spread.fit()\n",
    "    return data_ticker1 + (data_ticker2 * -spread.params[0]), spread.params[0]\n",
    "\n",
    "def ADF(spread):\n",
    "    return statsmodels.tsa.stattools.adfuller(spread)# H0: Raiz unitária.\n",
    "\n",
    "def ADF_test(data_ticker1, data_ticker2):\n",
    "    ols = OLS(data_ticker1, data_ticker2)\n",
    "    spread = ols[0]\n",
    "    gamma = ols[1]\n",
    "    return ADF(spread),gamma"
   ]
  },
  {
   "cell_type": "code",
   "execution_count": 3,
   "metadata": {},
   "outputs": [],
   "source": [
    "def find_cointegrated_pairs_mod(data):\n",
    "    n = data.shape[1]\n",
    "    pvalue_matrix = np.ones((n, n))\n",
    "    gammas_matrix= np.ones((n, n))\n",
    "    keys = data.keys()\n",
    "    for i in range(n):\n",
    "        for j in range(i+1, n):\n",
    "            S1 = keys[i]\n",
    "            S2 = keys[j]\n",
    "            result = ADF_test(data[S1], data[S2])\n",
    "            gammas_matrix[i, j] =result[1] # gamma\n",
    "            pvalue = result[0][1] # pvalue\n",
    "            pvalue_matrix[i, j] = pvalue\n",
    "    return pvalue_matrix, gammas_matrix"
   ]
  },
  {
   "cell_type": "code",
   "execution_count": 4,
   "metadata": {},
   "outputs": [],
   "source": [
    "# Top n pares com o menor P-Value\n",
    "\n",
    "#data = dados com o log preço dos ativos\n",
    "#pvalue_matrix = matriz de pvalores\n",
    "#gamma = vetor com os gammas dos ativos\n",
    "#alpha = nivel de significancia para o teste ADF\n",
    "#n = top n ativos com o menor pvalue\n",
    "\n",
    "def top_coint_pairs(data,pvalue_matrix,gamma, alpha = 0.05, n = 5): \n",
    "\n",
    "    pvalues_f = pvalues[np.where(pvalues < alpha)] # pvalores menores que 0.05\n",
    "    stock_a = data.columns[list(np.where(pvalues < alpha))[0]] # relacionando o pvalor com a ação A\n",
    "    stock_b = data.columns[list(np.where(pvalues < alpha))[1]] # relacionando o pvalor com a ação B\n",
    "    gammas_f = gammas[np.where(pvalues < alpha)] # relacionando o pvalor com o gamma\n",
    "    N = len(list(np.where(pvalues < alpha)[0])) # quantidade de pares cointegrados\n",
    "\n",
    "    d = []\n",
    "    for i in range(N):\n",
    "      d.append(\n",
    "            {\n",
    "                'Stock A': stock_a[i],\n",
    "                'Stock B': stock_b[i],\n",
    "                'P-Values': pvalues_f[i],\n",
    "                'Gamma': gammas_f[i]\n",
    "            }\n",
    "        )\n",
    "\n",
    "    #pegando top 5 pares\n",
    "    return pd.DataFrame(d).sort_values(by=\"P-Values\").iloc[:n,]\n"
   ]
  },
  {
   "cell_type": "code",
   "execution_count": 5,
   "metadata": {},
   "outputs": [],
   "source": [
    "# Estamos assumindo que: \n",
    "# 1) Conseguimos comprar/vender o portfolio no dia em que há o cruzamento entre o z_score e o threshold. \n",
    "# 2) Não há stop loss\n",
    "# 3) Não há stop de dias\n",
    "# 4) As operções em aberto no final do período de teste são encerradas.\n",
    "\n",
    "def calculate_profit(spread,threshold):\n",
    "    \n",
    "    #cirando variaveis\n",
    "    log_ret = spread.diff() # log return eh o incremento\n",
    "    dias = spread.index\n",
    "    z_score = (spread-spread.mean())/spread.std()\n",
    "    portfolio_return = []\n",
    "    pos = 0 # 0: sem posição aberta\n",
    "            # 1: Comprei o meu portfolio h = (1,-gamma)\n",
    "            # -1: Vendi o meu portfolio h = -(1,-gamma)\n",
    "\n",
    "    for i in range(1,len(z_score)):\n",
    "                        \n",
    "        if (z_score[i] > threshold) and (pos == 0):\n",
    "            pos = -1\n",
    "            print(\"Vendi o Portfólio no dia \",dias[i])\n",
    "            #print(\"Preço da ação A: \",S1[i].round(2), \", Preço da ação B: \",S2[i].round(2))\n",
    "\n",
    "        elif (z_score[i] < - threshold)  and (pos == 0):\n",
    "            pos = 1            \n",
    "            print(\"Comprei o Portfólio no dia \",dias[i])\n",
    "            #print(\"Preço da ação A: \",S1[i].round(2), \", Preço da ação B: \",S2[i].round(2))\n",
    "\n",
    "        else:\n",
    "          if (pos == 1) and (z_score[i] < -0.75):\n",
    "            portfolio_return.append(log_ret[i]*pos) # estou pegando o valor do incremento\n",
    "            #print(\"O incremento é de: \",log_ret[i].round(2),\" no dia \",dias[i])\n",
    "            #print(\"Estou comprado, esperando o z_score = -0.75\")\n",
    "\n",
    "          elif (pos == 1) and (z_score[i] >= -0.75):\n",
    "            portfolio_return.append(log_ret[i]*pos)\n",
    "            print(\"Estava comprado, finalizei agora!\",dias[i])\n",
    "            #print(\"Preço da ação A: \",S1[i].round(2), \", Preço da ação B: \",S2[i].round(2))\n",
    "            pos = 0\n",
    "            \n",
    "\n",
    "          elif (pos == -1) and (z_score[i] > 0.75):\n",
    "            portfolio_return.append(log_ret[i]*pos) # estou pegando o valor do incremento\n",
    "            #print(\"O incremento é de: \",log_ret[i].round(2),\" no dia \",dias[i])\n",
    "            #print(\"Estou vendido, esperando o z_score = 0.75\")\n",
    "\n",
    "          elif (pos == -1) and (z_score[i] <= 0.75):\n",
    "            portfolio_return.append(log_ret[i]*pos)\n",
    "            print(\"Estava vendido, finalizei agora!\",dias[i])\n",
    "            #print(\"Preço da ação A: \",S1[i].round(2), \", Preço da ação B: \",S2[i].round(2))\n",
    "            pos =0\n",
    "          else: \n",
    "            pos = 0\n",
    "\n",
    "\n",
    "    total_ret = pd.Series(portfolio_return).sum()\n",
    "\n",
    "    return total_ret"
   ]
  },
  {
   "cell_type": "markdown",
   "metadata": {},
   "source": [
    "## Aplicação 1"
   ]
  },
  {
   "cell_type": "markdown",
   "metadata": {},
   "source": [
    "### Pegando dados"
   ]
  },
  {
   "cell_type": "code",
   "execution_count": 6,
   "metadata": {},
   "outputs": [
    {
     "name": "stdout",
     "output_type": "stream",
     "text": [
      "[*********************100%***********************]  11 of 11 completed\n"
     ]
    }
   ],
   "source": [
    "# Getting data\n",
    "start = datetime.datetime(2015, 1, 1)\n",
    "end = datetime.datetime(2022, 1, 1)\n",
    "\n",
    "tickers = ['AAPL', 'ADBE', 'ORCL', 'EBAY', 'MSFT', 'QCOM', 'HPQ', 'JNPR', 'AMD', 'IBM', 'SPY']\n",
    "\n",
    "data = pdr.get_data_yahoo(tickers, start, end)['Close']\n",
    "data = np.log(data)"
   ]
  },
  {
   "cell_type": "markdown",
   "metadata": {},
   "source": [
    "### Encontrando os pares Cointegrados"
   ]
  },
  {
   "cell_type": "markdown",
   "metadata": {},
   "source": [
    "#### Vamos pegar os primeiros 252 dias úteis (período de formação) e verificar quais são os pares cointegrados nesse período"
   ]
  },
  {
   "cell_type": "code",
   "execution_count": 7,
   "metadata": {},
   "outputs": [
    {
     "name": "stdout",
     "output_type": "stream",
     "text": [
      "(11, 11) (11, 11)\n"
     ]
    }
   ],
   "source": [
    "pvalues, gammas = find_cointegrated_pairs_mod(data.iloc[0:252,])\n",
    "print(pvalues.shape,gammas.shape)"
   ]
  },
  {
   "cell_type": "markdown",
   "metadata": {},
   "source": [
    "### Encontrando os Top 5 pares cointegrados neste período:\n"
   ]
  },
  {
   "cell_type": "code",
   "execution_count": 8,
   "metadata": {},
   "outputs": [
    {
     "name": "stdout",
     "output_type": "stream",
     "text": [
      "  Stock A Stock B  P-Values     Gamma\n",
      "2    AAPL    ORCL  0.005959  0.917130\n",
      "1    AAPL     IBM  0.017124  0.680164\n",
      "0    AAPL     HPQ  0.043885  1.280746\n"
     ]
    }
   ],
   "source": [
    "coint_pairs_df = top_coint_pairs(data,pvalues,gammas,alpha = 0.05 , n=5)\n",
    "print(coint_pairs_df)"
   ]
  },
  {
   "cell_type": "markdown",
   "metadata": {},
   "source": [
    "#### Encontrando o lucro da estratégia para os próximos 126 d.u. (período de teste)"
   ]
  },
  {
   "cell_type": "code",
   "execution_count": 9,
   "metadata": {},
   "outputs": [
    {
     "name": "stdout",
     "output_type": "stream",
     "text": [
      "Vendi o Portfólio no dia  2016-01-05 00:00:00\n",
      "Estava vendido, finalizei agora! 2016-01-27 00:00:00\n",
      "Comprei o Portfólio no dia  2016-05-02 00:00:00\n",
      "Estava comprado, finalizei agora! 2016-05-25 00:00:00\n",
      "Comprei o Portfólio no dia  2016-06-29 00:00:00\n",
      "-------------------------------------------------\n",
      "Vendi o Portfólio no dia  2016-01-22 00:00:00\n",
      "Estava vendido, finalizei agora! 2016-01-27 00:00:00\n",
      "Comprei o Portfólio no dia  2016-05-11 00:00:00\n",
      "Estava comprado, finalizei agora! 2016-05-24 00:00:00\n",
      "-------------------------------------------------\n",
      "Vendi o Portfólio no dia  2016-01-20 00:00:00\n",
      "Estava vendido, finalizei agora! 2016-02-18 00:00:00\n",
      "Comprei o Portfólio no dia  2016-06-02 00:00:00\n",
      "Estava comprado, finalizei agora! 2016-06-27 00:00:00\n",
      "-------------------------------------------------\n"
     ]
    }
   ],
   "source": [
    "resultado = []\n",
    "for i in range(0,coint_pairs_df.shape[0]):\n",
    "    S1_name = coint_pairs_df.iloc[i,0:2][0]\n",
    "    S2_name = coint_pairs_df.iloc[i,0:2][1]\n",
    "    gamma_1_2 = coint_pairs_df.iloc[i,3]\n",
    "\n",
    "    S1 = data[S1_name].iloc[252:(252+126)] # periodo de teste\n",
    "    S2 = data[S2_name].iloc[252:(252+126)] # periodo de teste\n",
    "\n",
    "    #spread\n",
    "    spread = S1 - gamma_1_2*S2\n",
    "\n",
    "    # Pegando o resultado da estratégia\n",
    "    resultado.append(np.exp(calculate_profit(spread,1.65)))\n",
    "    print(\"-------------------------------------------------\")"
   ]
  },
  {
   "cell_type": "markdown",
   "metadata": {},
   "source": [
    "## Aplicação 2"
   ]
  },
  {
   "cell_type": "markdown",
   "metadata": {},
   "source": [
    "Agora vamos fazer uma aplicação usando os 7 anos de dados. Iremos ter um período de formação de 252 dias úteis e um período de teste de 126 dias úteis. "
   ]
  },
  {
   "cell_type": "code",
   "execution_count": null,
   "metadata": {},
   "outputs": [],
   "source": [
    "results = []\n",
    "for j in range(0,12):\n",
    "\n",
    "  pvalues, gammas = find_cointegrated_pairs_mod(data.iloc[126*j:(252+126*j),])\n",
    "  print(\"-----------------\")\n",
    "  print(\"Semestre \",(1+j))\n",
    "  print(\"-----------------\")\n",
    "    \n",
    "  try:\n",
    "    coint_pairs_df = top_coint_pairs(data,pvalues,gammas,alpha = 0.05 , n=5)\n",
    "\n",
    "  except:\n",
    "    continue\n",
    "\n",
    "  resultado = []\n",
    "  for i in range(0,coint_pairs_df.shape[0]):\n",
    "      S1_name = coint_pairs_df.iloc[i,0:2][0]\n",
    "      S2_name = coint_pairs_df.iloc[i,0:2][1]\n",
    "      print(\"Par: \",S1_name,S2_name)\n",
    "      gamma_1_2 = coint_pairs_df.iloc[i,3]\n",
    "\n",
    "      S1 = data[S1_name].iloc[(252+126*j):(252+126*(j+1))] # periodo de teste\n",
    "      S2 = data[S2_name].iloc[(252+126*j):(252+126*(j+1))] # periodo de teste\n",
    "\n",
    "      #spread\n",
    "      spread = S1 - gamma_1_2*S2\n",
    "\n",
    "      # Pegando o resultado da estratégia\n",
    "      resultado.append(np.exp(calculate_profit(spread,1.65)))\n",
    "      print(\"-------------------------------------------------\")\n",
    "      print(\"                                                 \")\n",
    "\n",
    "  results.append(resultado)"
   ]
  },
  {
   "cell_type": "code",
   "execution_count": null,
   "metadata": {
    "scrolled": true
   },
   "outputs": [],
   "source": [
    "results # lista de retornos dos pares ao longo do tempo."
   ]
  },
  {
   "cell_type": "code",
   "execution_count": 12,
   "metadata": {},
   "outputs": [],
   "source": [
    "# média dos retornos em cada semestre\n",
    "mean_results = []\n",
    "for i in range(0, len(results)):\n",
    "    mean_results.append(np.prod(results[i])**(1/(len(results[i]))))\n",
    "\n"
   ]
  },
  {
   "cell_type": "code",
   "execution_count": 13,
   "metadata": {
    "scrolled": true
   },
   "outputs": [
    {
     "data": {
      "text/plain": [
       "1.1109352323660324"
      ]
     },
     "execution_count": 13,
     "metadata": {},
     "output_type": "execute_result"
    }
   ],
   "source": [
    "# média dos retornos semestrais ao longo de todo o período out-od-sample.\n",
    "np.prod(mean_results)**(1/len(results))"
   ]
  },
  {
   "cell_type": "code",
   "execution_count": 14,
   "metadata": {},
   "outputs": [
    {
     "data": {
      "text/plain": [
       "1.2341770905121703"
      ]
     },
     "execution_count": 14,
     "metadata": {},
     "output_type": "execute_result"
    }
   ],
   "source": [
    "# média dos retornos ao ano.\n",
    "np.prod(mean_results)**(2/len(results))"
   ]
  }
 ],
 "metadata": {
  "hide_input": false,
  "kernelspec": {
   "display_name": "Python 3 (ipykernel)",
   "language": "python",
   "name": "python3"
  },
  "language_info": {
   "codemirror_mode": {
    "name": "ipython",
    "version": 3
   },
   "file_extension": ".py",
   "mimetype": "text/x-python",
   "name": "python",
   "nbconvert_exporter": "python",
   "pygments_lexer": "ipython3",
   "version": "3.8.7"
  }
 },
 "nbformat": 4,
 "nbformat_minor": 4
}
